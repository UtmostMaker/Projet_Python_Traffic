{
 "cells": [
  {
   "cell_type": "markdown",
   "id": "1b071a34",
   "metadata": {},
   "source": [
    "###  Metro Traffic Volume Prediction Pipeline\n",
    "#### 1. Imports and Configuration"
   ]
  },
  {
   "cell_type": "code",
   "execution_count": 1,
   "id": "258c74b8",
   "metadata": {},
   "outputs": [
    {
     "name": "stdout",
     "output_type": "stream",
     "text": [
      "✅ All necessary libraries imported.\n"
     ]
    }
   ],
   "source": [
    "# Core Libraries\n",
    "import pandas as pd\n",
    "import numpy as np\n",
    "import matplotlib.pyplot as plt\n",
    "import seaborn as sns\n",
    "import joblib # For saving/loading models\n",
    "import time\n",
    "import sys\n",
    "import os\n",
    "\n",
    "# Scikit-learn Preprocessing & Pipeline\n",
    "from sklearn.model_selection import train_test_split, GridSearchCV\n",
    "from sklearn.compose import ColumnTransformer\n",
    "from sklearn.pipeline import Pipeline\n",
    "from sklearn.preprocessing import StandardScaler, OneHotEncoder\n",
    "from sklearn.base import BaseEstimator, TransformerMixin # For custom transformers\n",
    "\n",
    "# Scikit-learn Models\n",
    "from sklearn.linear_model import LinearRegression, Ridge, Lasso\n",
    "from sklearn.ensemble import RandomForestRegressor, GradientBoostingRegressor\n",
    "from sklearn.svm import SVR\n",
    "\n",
    "\n",
    "# Scikit-learn Metrics\n",
    "from sklearn.metrics import mean_squared_error, r2_score\n",
    "\n",
    "# Other Encoders\n",
    "from category_encoders import TargetEncoder # For Target Encoding\n",
    "\n",
    "# Configure display options (optional)\n",
    "pd.set_option('display.max_columns', 100)\n",
    "pd.set_option('display.max_colwidth', 50) # Adjusted for better display\n",
    "np.random.seed(42) # For reproducibility\n",
    "plt.rcParams['figure.figsize'] = (12, 7) # Default figure size\n",
    "sns.set_style(\"whitegrid\")\n",
    "\n",
    "print(\"✅ All necessary libraries imported.\")"
   ]
  },
  {
   "cell_type": "markdown",
   "id": "877f0457",
   "metadata": {},
   "source": [
    "#### 2. Data Loading"
   ]
  },
  {
   "cell_type": "code",
   "execution_count": 2,
   "id": "1433688d",
   "metadata": {},
   "outputs": [
    {
     "name": "stdout",
     "output_type": "stream",
     "text": [
      "✅ Dataset chargé avec succès depuis: ../data/Metro_Interstate_Traffic_Volume.csv\n"
     ]
    }
   ],
   "source": [
    "data_file_path = '../data/Metro_Interstate_Traffic_Volume.csv'\n",
    "\n",
    "#(\n",
    "#    '/home/me/Work/Python/Projet_Python_Traffic/data/'\n",
    "#    'Metro_Interstate_Traffic_Volume.csv'\n",
    "#)\n",
    "try:\n",
    "    df = pd.read_csv(data_file_path)\n",
    "    print(f\"✅ Dataset chargé avec succès depuis: {data_file_path}\")\n",
    "except FileNotFoundError:\n",
    "    print(\n",
    "        f\"❌ Erreur: Fichier non trouvé. \"\n",
    "        f\"Vérifiez le chemin: {data_file_path}\"\n",
    "    )"
   ]
  },
  {
   "cell_type": "markdown",
   "id": "6875f506",
   "metadata": {},
   "source": [
    "#### 3. Data Preprocessing"
   ]
  },
  {
   "cell_type": "code",
   "execution_count": 3,
   "id": "c6135901",
   "metadata": {},
   "outputs": [],
   "source": [
    "# Convert datetime and extract features\n",
    "df['date_time'] = pd.to_datetime(df['date_time'], format=\"%d-%m-%Y %H:%M\")\n",
    "df['hour'] = df['date_time'].dt.hour\n",
    "df['day_of_week'] = df['date_time'].dt.dayofweek\n",
    "df['month'] = df['date_time'].dt.month\n",
    "df['year'] = df['date_time'].dt.year\n",
    "\n",
    "# Temperature conversion (Kelvin to Celsius)\n",
    "df['temp'] = df['temp'] - 273.15\n",
    "\n",
    "# Cleanup unnecessary columns\n",
    "df = df.drop(columns=['date_time', 'weather_description'])"
   ]
  },
  {
   "cell_type": "markdown",
   "id": "10ebf652",
   "metadata": {},
   "source": [
    "#### 4. Feature Engineering"
   ]
  },
  {
   "cell_type": "code",
   "execution_count": 4,
   "id": "12f659d3",
   "metadata": {},
   "outputs": [],
   "source": [
    "# Temporal features\n",
    "df['is_weekend'] = df['day_of_week'].apply(lambda x: 1 if x >= 5 else 0)\n",
    "\n",
    "def get_peak_hour(hour):\n",
    "    return (\n",
    "        'morning_peak' if 7 <= hour < 10 else\n",
    "        'evening_peak' if 16 <= hour < 19 else\n",
    "        'off_peak'\n",
    "    )\n",
    "\n",
    "df['peak_hour'] = df['hour'].apply(get_peak_hour)\n",
    "\n",
    "# Seasonal features\n",
    "df['season'] = df['month'].apply(lambda m: 'winter' if m in [12,1,2] else \n",
    "                                 'spring' if m in [3,4,5] else\n",
    "                                 'summer' if m in [6,7,8] else 'autumn')\n",
    "\n",
    "# Weather features\n",
    "df['precipitation'] = df['rain_1h'] + df['snow_1h']\n",
    "df['is_precipitating'] = (df['precipitation'] > 0).astype(int)\n",
    "df = df.drop(columns=['precipitation'])\n",
    "\n",
    "# Temperature categories\n",
    "df['temp_category'] = pd.cut(df['temp'],\n",
    "                            bins=[-np.inf, 0, 15, 25, np.inf],\n",
    "                            labels=['freezing', 'cold', 'mild', 'hot'])\n"
   ]
  },
  {
   "cell_type": "markdown",
   "id": "c449167a",
   "metadata": {},
   "source": [
    "#### 5. Custom Encoders"
   ]
  },
  {
   "cell_type": "code",
   "execution_count": 5,
   "id": "8f92821c",
   "metadata": {},
   "outputs": [
    {
     "name": "stdout",
     "output_type": "stream",
     "text": [
      "✅ FrequencyEncoder class imported successfully from src/custom_transformers.py\n"
     ]
    }
   ],
   "source": [
    "# Get the absolute path to the directory containing the notebook'\n",
    "# For now, assuming the working directory IS the 'notebooks' folder when run:\n",
    "\n",
    "project_root = os.path.abspath('..') # Go one level up to the project root\n",
    "\n",
    "# Add the project root to the Python path if it's not already there\n",
    "if project_root not in sys.path:\n",
    "    sys.path.insert(0, project_root)\n",
    "    print(f\"Added project root to sys.path: {project_root}\")\n",
    "\n",
    "# Now the import should work\n",
    "try:\n",
    "    from src.custom_transformers import FrequencyEncoder\n",
    "    print(\n",
    "        \"✅ FrequencyEncoder class imported successfully \"\n",
    "        \"from src/custom_transformers.py\"\n",
    "    )\n",
    "except ModuleNotFoundError:\n",
    "    print(\n",
    "        \"❌ ERROR: Still cannot find 'src'. Check the project structure \"\n",
    "        \"and path logic.\"\n",
    "    )\n",
    "except ImportError as e:\n",
    "    print(f\"❌ ERROR importing FrequencyEncoder: {e}\")\n"
   ]
  },
  {
   "cell_type": "markdown",
   "id": "39f2e0be",
   "metadata": {},
   "source": [
    "#### 6. Pipeline Construction"
   ]
  },
  {
   "cell_type": "code",
   "execution_count": null,
   "id": "1f6bfa0f",
   "metadata": {},
   "outputs": [
    {
     "name": "stdout",
     "output_type": "stream",
     "text": [
      "✅ Pipelines created for all models.\n"
     ]
    }
   ],
   "source": [
    "# Define feature types\n",
    "numeric_features = ['temp', 'rain_1h', 'snow_1h', 'clouds_all']\n",
    "categorical_ohe = ['holiday', 'weather_main']\n",
    "categorical_target = ['peak_hour']\n",
    "categorical_freq = ['season', 'temp_category']\n",
    "# Remaining features ('hour', 'day_of_week', 'month', 'year',\n",
    "# 'is_weekend', 'is_precipitating') will pass through via remainder='passthrough'\n",
    "\n",
    "# Preprocessing pipeline definition\n",
    "# Applies specific transformations to different column types\n",
    "preprocessor = ColumnTransformer(\n",
    "    transformers=[\n",
    "        # Scale numeric features\n",
    "        ('num', StandardScaler(), numeric_features),\n",
    "        # One-hot encode low-cardinality categorical features\n",
    "        ('ohe',\n",
    "         OneHotEncoder(handle_unknown='ignore', sparse_output=False),\n",
    "         categorical_ohe),\n",
    "        # Target encode high-cardinality/potentially predictive categorical features\n",
    "        ('target',\n",
    "         TargetEncoder(cols=categorical_target,\n",
    "                       handle_missing='value',\n",
    "                       handle_unknown='value'),\n",
    "         categorical_target),\n",
    "        # Frequency encode other categorical features\n",
    "        ('freq',\n",
    "         FrequencyEncoder(cols=categorical_freq),\n",
    "         categorical_freq)\n",
    "    ],\n",
    "    # Keep other columns not specified in transformers\n",
    "    remainder='passthrough'\n",
    ")\n",
    "\n",
    "# Define models to be evaluated\n",
    "models = {\n",
    "    'RandomForest': RandomForestRegressor(\n",
    "        n_estimators=200, max_depth=15, n_jobs=-1, random_state=42\n",
    "    ), # Added random_state for reproducibility\n",
    "    'GradientBoosting': GradientBoostingRegressor(\n",
    "        n_estimators=100, random_state=42\n",
    "    ), # Added random_state\n",
    "    'LinearRegression': LinearRegression(),\n",
    "    'Ridge': Ridge(alpha=1.0, random_state=42), # Added random_state\n",
    "    'SVR': SVR(kernel='rbf') # SVR doesn't have random_state in the same way\n",
    "}\n",
    "\n",
    "# Create a full pipeline (preprocessing + model) for each defined model\n",
    "pipelines = {}\n",
    "for name, model in models.items():\n",
    "    pipelines[name] = Pipeline(steps=[\n",
    "        ('preprocessor', preprocessor),\n",
    "        ('regressor', model)\n",
    "    ])\n",
    "\n",
    "print(\"✅ Pipelines created for all models.\")"
   ]
  },
  {
   "cell_type": "markdown",
   "id": "40907037",
   "metadata": {},
   "source": [
    "#### 7. Model Training and Evaluation"
   ]
  },
  {
   "cell_type": "code",
   "execution_count": null,
   "id": "ced9ffe8",
   "metadata": {},
   "outputs": [
    {
     "name": "stdout",
     "output_type": "stream",
     "text": [
      "🚀 Training RandomForest model...\n",
      "✅ RandomForest - RMSE: 529.58, R²: 0.928\n",
      "🚀 Training GradientBoosting model...\n",
      "✅ GradientBoosting - RMSE: 593.16, R²: 0.909\n",
      "🚀 Training LinearRegression model...\n",
      "✅ LinearRegression - RMSE: 1574.15, R²: 0.360\n",
      "🚀 Training Ridge model...\n",
      "✅ Ridge - RMSE: 1574.04, R²: 0.360\n",
      "🚀 Training SVR model...\n",
      "✅ SVR - RMSE: 1776.67, R²: 0.185\n",
      "\n",
      "📊 Model Comparison:\n",
      "                         RMSE        R²\n",
      "RandomForest       529.576234  0.927564\n",
      "GradientBoosting   593.160495  0.909126\n",
      "LinearRegression  1574.154016  0.359985\n",
      "Ridge             1574.035406  0.360081\n",
      "SVR               1776.672849  0.184712\n",
      "\n",
      "🏆 Best model: RandomForest with RMSE: 529.58\n"
     ]
    }
   ],
   "source": [
    "# Split data\n",
    "X = df.drop('traffic_volume', axis=1)\n",
    "y = df['traffic_volume']\n",
    "X_train, X_test, y_train, y_test = train_test_split(\n",
    "    X, y, test_size=0.2, shuffle=False\n",
    ")\n",
    "\n",
    "# Train and evaluate each model\n",
    "results = {}\n",
    "for name, pipeline in pipelines.items():\n",
    "    print(f\"🚀 Training {name} model...\")\n",
    "    pipeline.fit(X_train, y_train)\n",
    "    \n",
    "    # Make predictions\n",
    "    y_pred = pipeline.predict(X_test)\n",
    "    \n",
    "    # Calculate metrics\n",
    "    rmse = np.sqrt(mean_squared_error(y_test, y_pred))\n",
    "    r2 = r2_score(y_test, y_pred)\n",
    "    \n",
    "    # Store results\n",
    "    results[name] = {'RMSE': rmse, 'R²': r2}\n",
    "    \n",
    "    print(f\"✅ {name} - RMSE: {rmse:.2f}, R²: {r2:.3f}\")\n",
    "\n",
    "# Create a DataFrame to compare models\n",
    "results_df = pd.DataFrame(results).T\n",
    "print(\"\\n📊 Model Comparison:\")\n",
    "print(results_df)\n",
    "\n",
    "# Find the best model\n",
    "best_model = results_df['RMSE'].idxmin()\n",
    "print(\n",
    "    f\"\\n🏆 Best model: {best_model} \"\n",
    "    f\"with RMSE: {results_df.loc[best_model, 'RMSE']:.2f}\"\n",
    ")"
   ]
  },
  {
   "cell_type": "markdown",
   "id": "25590862",
   "metadata": {},
   "source": [
    "#### 8. Pipeline Export"
   ]
  },
  {
   "cell_type": "code",
   "execution_count": null,
   "id": "3c75bd6b",
   "metadata": {},
   "outputs": [
    {
     "name": "stdout",
     "output_type": "stream",
     "text": [
      "💾 Best model (RandomForest) saved successfully to: ../models/traffic_prediction_RandomForest_untuned.pkl\n"
     ]
    }
   ],
   "source": [
    "model_dir = '../models'\n",
    "os.makedirs(model_dir, exist_ok=True)\n",
    "untuned_model_filename = f'traffic_prediction_{best_model}_untuned.pkl'\n",
    "untuned_model_path = os.path.join(model_dir, untuned_model_filename)\n",
    "\n",
    "# Save the best model\n",
    "best_pipeline = pipelines[best_model]\n",
    "\n",
    "try: \n",
    "    joblib.dump(best_pipeline, untuned_model_path)\n",
    "    print(\n",
    "        f\"💾 Best model ({best_model}) \"\n",
    "        f\"saved successfully to: {untuned_model_path}\"\n",
    "    )\n",
    "except Exception as e:\n",
    "    print(f\"Error saving the untuned model pipeline: {e}\")"
   ]
  },
  {
   "cell_type": "markdown",
   "id": "769a0ea6",
   "metadata": {},
   "source": [
    "#### 9. Visualize Model Comparison"
   ]
  },
  {
   "cell_type": "code",
   "execution_count": null,
   "id": "ee68f64e",
   "metadata": {},
   "outputs": [
    {
     "data": {
      "image/png": "[encoded data removed]",
      "text/plain": [
       "<Figure size 1000x600 with 1 Axes>"
      ]
     },
     "metadata": {},
     "output_type": "display_data"
    },
    {
     "data": {
      "image/png": "[encoded data removed]",
      "text/plain": [
       "<Figure size 1000x600 with 1 Axes>"
      ]
     },
     "metadata": {},
     "output_type": "display_data"
    }
   ],
   "source": [
    "# Plot RMSE comparison\n",
    "plt.figure(figsize=(10, 6))\n",
    "plt.bar(results_df.index, results_df['RMSE'], color='skyblue')\n",
    "plt.title('RMSE by Model (Lower is Better)')\n",
    "plt.ylabel('RMSE')\n",
    "plt.xticks(rotation=45)\n",
    "plt.tight_layout()\n",
    "plt.show()\n",
    "\n",
    "# Plot R² comparison\n",
    "plt.figure(figsize=(10, 6))\n",
    "plt.bar(results_df.index, results_df['R²'], color='lightgreen')\n",
    "plt.title('R² by Model (Higher is Better)')\n",
    "plt.ylabel('R²')\n",
    "plt.xticks(rotation=45)\n",
    "plt.axhline(y=0.7, color='r', linestyle='--', label='Good fit threshold')\n",
    "plt.legend()\n",
    "plt.tight_layout()\n",
    "plt.show()"
   ]
  },
  {
   "cell_type": "markdown",
   "id": "998ffb55",
   "metadata": {},
   "source": [
    "#### 10. Hyperparameter Tuning for the Best Model Only"
   ]
  },
  {
   "cell_type": "code",
   "execution_count": null,
   "id": "7c858f71",
   "metadata": {},
   "outputs": [
    {
     "name": "stdout",
     "output_type": "stream",
     "text": [
      "--- Starting Hyperparameter Tuning for the Best Model: RandomForest ---\n",
      "\n",
      "🔍 Tuning hyperparameters for RandomForest...\n",
      "Fitting 3 folds for each of 12 candidates, totalling 36 fits\n",
      "\n",
      "✓ Best parameters found for RandomForest: {'regressor__max_depth': 10, 'regressor__min_samples_split': 5, 'regressor__n_estimators': 200}\n",
      "✓ Best Cross-Validated RMSE for RandomForest: 505.41\n",
      "✓ Tuning duration for RandomForest: 158.49 seconds\n",
      "\n",
      "💾 Best tuned model (RandomForest) saved successfully to: ../models/traffic_prediction_RandomForest_tuned.pkl\n",
      "\n",
      "Evaluating tuned RandomForest on the test set...\n",
      " Tuned RandomForest Test RMSE: 528.44\n",
      " Tuned RandomForest Test R²: 0.928\n",
      "\n",
      "--- Hyperparameter Tuning Finished ---\n"
     ]
    },
    {
     "name": "stderr",
     "output_type": "stream",
     "text": [
      "Exception ignored in: <function ResourceTracker.__del__ at 0x7f93cea58900>\n",
      "Traceback (most recent call last):\n",
      "  File \"/usr/lib64/python3.13/multiprocessing/resource_tracker.py\", line 82, in __del__\n",
      "  File \"/usr/lib64/python3.13/multiprocessing/resource_tracker.py\", line 91, in _stop\n",
      "  File \"/usr/lib64/python3.13/multiprocessing/resource_tracker.py\", line 116, in _stop_locked\n",
      "ChildProcessError: [Errno 10] No child processes\n",
      "Exception ignored in: <function ResourceTracker.__del__ at 0x7f70a7b58900>\n",
      "Traceback (most recent call last):\n",
      "  File \"/usr/lib64/python3.13/multiprocessing/resource_tracker.py\", line 82, in __del__\n",
      "  File \"/usr/lib64/python3.13/multiprocessing/resource_tracker.py\", line 91, in _stop\n",
      "  File \"/usr/lib64/python3.13/multiprocessing/resource_tracker.py\", line 116, in _stop_locked\n",
      "ChildProcessError: [Errno 10] No child processes\n",
      "Exception ignored in: <function ResourceTracker.__del__ at 0x7f3fef064900>\n",
      "Traceback (most recent call last):\n",
      "  File \"/usr/lib64/python3.13/multiprocessing/resource_tracker.py\", line 82, in __del__\n",
      "  File \"/usr/lib64/python3.13/multiprocessing/resource_tracker.py\", line 91, in _stop\n",
      "  File \"/usr/lib64/python3.13/multiprocessing/resource_tracker.py\", line 116, in _stop_locked\n",
      "ChildProcessError: [Errno 10] No child processes\n",
      "Exception ignored in: <function ResourceTracker.__del__ at 0x7fe0c2a64900>\n",
      "Traceback (most recent call last):\n",
      "  File \"/usr/lib64/python3.13/multiprocessing/resource_tracker.py\", line 82, in __del__\n",
      "  File \"/usr/lib64/python3.13/multiprocessing/resource_tracker.py\", line 91, in _stop\n",
      "  File \"/usr/lib64/python3.13/multiprocessing/resource_tracker.py\", line 116, in _stop_locked\n",
      "ChildProcessError: [Errno 10] No child processes\n",
      "Exception ignored in: <function ResourceTracker.__del__ at 0x7f0a94064900>\n",
      "Traceback (most recent call last):\n",
      "  File \"/usr/lib64/python3.13/multiprocessing/resource_tracker.py\", line 82, in __del__\n",
      "  File \"/usr/lib64/python3.13/multiprocessing/resource_tracker.py\", line 91, in _stop\n",
      "  File \"/usr/lib64/python3.13/multiprocessing/resource_tracker.py\", line 116, in _stop_locked\n",
      "ChildProcessError: [Errno 10] No child processes\n",
      "Exception ignored in: <function ResourceTracker.__del__ at 0x7fc56b360900>\n",
      "Traceback (most recent call last):\n",
      "  File \"/usr/lib64/python3.13/multiprocessing/resource_tracker.py\", line 82, in __del__\n",
      "  File \"/usr/lib64/python3.13/multiprocessing/resource_tracker.py\", line 91, in _stop\n",
      "  File \"/usr/lib64/python3.13/multiprocessing/resource_tracker.py\", line 116, in _stop_locked\n",
      "ChildProcessError: [Errno 10] No child processes\n",
      "Exception ignored in: <function ResourceTracker.__del__ at 0x7fc31a45c900>\n",
      "Traceback (most recent call last):\n",
      "  File \"/usr/lib64/python3.13/multiprocessing/resource_tracker.py\", line 82, in __del__\n",
      "  File \"/usr/lib64/python3.13/multiprocessing/resource_tracker.py\", line 91, in _stop\n",
      "  File \"/usr/lib64/python3.13/multiprocessing/resource_tracker.py\", line 116, in _stop_locked\n",
      "ChildProcessError: [Errno 10] No child processes\n",
      "Exception ignored in: <function ResourceTracker.__del__ at 0x7f952b560900>\n",
      "Traceback (most recent call last):\n",
      "  File \"/usr/lib64/python3.13/multiprocessing/resource_tracker.py\", line 82, in __del__\n",
      "  File \"/usr/lib64/python3.13/multiprocessing/resource_tracker.py\", line 91, in _stop\n",
      "  File \"/usr/lib64/python3.13/multiprocessing/resource_tracker.py\", line 116, in _stop_locked\n",
      "ChildProcessError: [Errno 10] No child processes\n"
     ]
    }
   ],
   "source": [
    "# Define parameter grids for models you might want to tune\n",
    "# Keys MUST match the keys in the 'models' dictionary from Step 6\n",
    "# Keep grids defined for potential best models\n",
    "param_grids = {\n",
    "    'RandomForest': {\n",
    "        'regressor__n_estimators': [100, 200],\n",
    "        'regressor__max_depth': [10, 20, None],\n",
    "        'regressor__min_samples_split': [2, 5]\n",
    "    },\n",
    "    'GradientBoosting': {\n",
    "        'regressor__n_estimators': [100, 200],\n",
    "        'regressor__learning_rate': [0.05, 0.1],\n",
    "        'regressor__max_depth': [3, 5]\n",
    "    },\n",
    "    'Ridge': {\n",
    "        'regressor__alpha': [0.1, 1.0, 10.0, 100.0]\n",
    "    },\n",
    "    'SVR': {\n",
    "        'regressor__C': [0.1, 1, 10],\n",
    "        'regressor__gamma': ['scale', 'auto'],\n",
    "        'regressor__kernel': ['rbf', 'linear']\n",
    "    }\n",
    "}\n",
    "\n",
    "# --- Tuning only the best model identified in Step 7 ---\n",
    "\n",
    "print(\n",
    "    f\"--- Starting Hyperparameter Tuning for the Best Model: \"\n",
    "    f\"{best_model} ---\"\n",
    ")\n",
    "\n",
    "# Check if a parameter grid is defined for the identified best model\n",
    "if best_model in param_grids:\n",
    "    print(f\"\\n🔍 Tuning hyperparameters for {best_model}...\")\n",
    "    start_time = time.time()\n",
    "\n",
    "    # Get the specific pipeline and grid for the best model\n",
    "    pipeline_to_tune = pipelines[best_model]\n",
    "    grid_to_use = param_grids[best_model]\n",
    "\n",
    "    # Setup GridSearchCV\n",
    "    grid_search = GridSearchCV(\n",
    "        pipeline_to_tune,\n",
    "        grid_to_use,\n",
    "        cv=3, # 3-fold cross-validation\n",
    "        scoring='neg_root_mean_squared_error', # Minimize RMSE\n",
    "        n_jobs=-1, # Use all CPU cores\n",
    "        verbose=1 # Show progress\n",
    "    )\n",
    "\n",
    "    # Fit GridSearchCV to the training data\n",
    "    # This finds the best parameters and refits the model on the whole train set\n",
    "    grid_search.fit(X_train, y_train)\n",
    "\n",
    "    end_time = time.time()\n",
    "    tuning_time = end_time - start_time\n",
    "\n",
    "    # The best estimator (refitted pipeline with best params)\n",
    "    best_tuned_pipeline = grid_search.best_estimator_\n",
    "\n",
    "    # Get results\n",
    "    best_params = grid_search.best_params_\n",
    "    best_cv_rmse = -grid_search.best_score_ # Convert back to positive RMSE\n",
    "\n",
    "    print(f\"\\n✓ Best parameters found for {best_model}: {best_params}\")\n",
    "    print(f\"✓ Best Cross-Validated RMSE for {best_model}: {best_cv_rmse:.2f}\")\n",
    "    print(f\"✓ Tuning duration for {best_model}: {tuning_time:.2f} seconds\")\n",
    "\n",
    "    # Save the best *tuned* pipeline\n",
    "\n",
    "    model_dir = '../models'\n",
    "    os.makedirs(model_dir, exist_ok=True)\n",
    "    tuned_model_filename = f'traffic_prediction_{best_model}_tuned.pkl'\n",
    "    tuned_model_path = os.path.join(model_dir, tuned_model_filename)\n",
    "\n",
    "    try:\n",
    "        joblib.dump(best_tuned_pipeline, tuned_model_path)\n",
    "        print(\n",
    "        f\"\\n💾 Best tuned model ({best_model}) \"\n",
    "        f\"saved successfully to: {tuned_model_path}\"\n",
    "        )\n",
    "    except Exception as e:\n",
    "        print(f\"\\nError saving the tuned model pipeline: {e}\")\n",
    "\n",
    "    # Informative: Evaluate this tuned model on the test set\n",
    "    print(f\"\\nEvaluating tuned {best_model} on the test set...\")\n",
    "    y_pred_tuned = best_tuned_pipeline.predict(X_test)\n",
    "    rmse_tuned = np.sqrt(mean_squared_error(y_test, y_pred_tuned))\n",
    "    r2_tuned = r2_score(y_test, y_pred_tuned)\n",
    "    print(f\" Tuned {best_model} Test RMSE: {rmse_tuned:.2f}\")\n",
    "    print(f\" Tuned {best_model} Test R²: {r2_tuned:.3f}\")\n",
    "\n",
    "else:\n",
    "    # If no grid was defined for the best model\n",
    "    print(\n",
    "        f\"\\n⏭️ No parameter grid defined for the best model ({best_model}). \"\n",
    "        \"Skipping tuning.\"\n",
    "    )\n",
    "\n",
    "    print(\n",
    "        f\"   The untuned version of {best_model} \"\n",
    "        f\"(saved as traffic_prediction_{best_model}.pkl in Step 8) \"\n",
    "        \"is considered the final one.\"\n",
    "    )\n",
    "    # Assign the untuned pipeline to best_tuned_pipeline\n",
    "    best_tuned_pipeline = pipelines[best_model]\n",
    "\n",
    "\n",
    "print(\"\\n--- Hyperparameter Tuning Finished ---\")"
   ]
  }
 ],
 "metadata": {
  "kernelspec": {
   "display_name": ".venv",
   "language": "python",
   "name": "python3"
  },
  "language_info": {
   "codemirror_mode": {
    "name": "ipython",
    "version": 3
   },
   "file_extension": ".py",
   "mimetype": "text/x-python",
   "name": "python",
   "nbconvert_exporter": "python",
   "pygments_lexer": "ipython3",
   "version": "3.13.3"
  }
 },
 "nbformat": 4,
 "nbformat_minor": 5
}
